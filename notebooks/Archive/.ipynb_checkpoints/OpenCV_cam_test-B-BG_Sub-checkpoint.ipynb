{
 "cells": [
  {
   "cell_type": "markdown",
   "metadata": {},
   "source": [
    "# Test of OpenCV + FastAI for video capture\n",
    "\n",
    "<br>\n",
    "<br>\n",
    "\n",
    "### For reference:\n",
    "<img src='https://i.pinimg.com/originals/fa/bb/70/fabb7087b0cffe30530e7df9ec1d0b88.png' width=\"400\" height=\"500\"></img>\n",
    "<br>\n",
    "<br>"
   ]
  },
  {
   "cell_type": "code",
   "execution_count": 1,
   "metadata": {
    "execution": {
     "iopub.execute_input": "2021-01-29T10:59:09.563988Z",
     "iopub.status.busy": "2021-01-29T10:59:09.563562Z",
     "iopub.status.idle": "2021-01-29T10:59:10.706519Z",
     "shell.execute_reply": "2021-01-29T10:59:10.705876Z",
     "shell.execute_reply.started": "2021-01-29T10:59:09.563914Z"
    }
   },
   "outputs": [],
   "source": [
    "# !pip install -Uqq fastbook\n",
    "# import fastbook\n",
    "# fastbook.setup_book()\n",
    "\n",
    "# RUN_NAME = '20210116-2147 - arch=xresnet50 - samples=1000 frozen=3 epochs=3 bs=20 res=300 _data=external preuntrained percent=88'\n",
    "# RUN_NAME = '20210116-2108 - arch=xresnet18 - samples=480 frozen=2 epochs=3 bs=8 res=300 _data=frank_pretrained=false_percent=71'\n",
    "\n",
    "# DEAD RUN_NAME = '20210118-2100 - arch=xresnet50 - samples=1000 frozen=0 epochs=25 bs=20 res=300 _data=external'\n",
    "# RUN_NAME = '200927-0730-RESNET101-384px-FALL-ft3f4'\n",
    "# RUN_NAME = '20210119-0130 - arch=xresnet50 - samples=1000 frozen=0 epochs=25 bs=20 res=300 _data=external'\n",
    "# RUN_NAME = '20210119-2152 - arch=xresnet50_deep - samples=1000 frozen=0 epochs=25 bs=20 res=300 _data=external'\n",
    "# RUN_NAME = '20210118-2000 - arch=xresnet50 - samples=1000 frozen=0 epochs=25 bs=20 res=300 _data=external'\n",
    "\n",
    "# RUN_NAME = '20210121-0017 - arch=xresnet50_deep - samples=3000 frozen=0 epochs=12 bs=20 res=300 _data=external'\n",
    "# RUN_NAME='20210122-0037 - arch=xresnet50_deep - samples=3000 frozen=1 epochs=40 bs=16 res=360 _data=external'\n",
    "# RUN_NAME = '20210122-2356 - arch=xresnet50_deep - samples=3000 frozen=1 epochs=40 bs=16 res=360 _data=external'\n",
    "# RUN_NAME = '20210123-2127 - arch=xresnet50_deep - samples=2000 frozen=1 epochs=22 bs=16 res=360 _data=external'\n",
    "# RUN_NAME = '20210126-0759 - arch=xresnet50_deep - samples=1000 frozen=1 epochs=30 bs=16 res=360 _data=combined1'\n",
    "# RUN_NAME = '20210126-1840 - arch=xresnet50_deep - samples=1000 frozen=1 epochs=30 bs=16 res=360 _data=combined1'\n",
    "# RUN_NAME = '20210127-1717 - arch=xresnet50 - samples=1100 frozen=1 epochs=20 bs=28 res=280 _data=combined2'\n",
    "# RUN_NAME = '20210127-2251 - arch=xresnet50 - samples=1100 frozen=1 epochs=40 bs=28 res=280 _data=combined2'\n",
    "# RUN_NAME = '20210128-1251 - arch=xresnet50 - samples=1100 frozen=1 epochs=40 bs=28 res=280 _data=combined2'\n",
    "RUN_NAME = '20210128-1704 - arch=xresnet50 - samples=1100 frozen=1 epochs=40 bs=28 res=280 _data=combined2'\n",
    "\n",
    "\n",
    "\n",
    "\n",
    "PRED_THRESHOLD = 0.5\n",
    "\n",
    "epoch_num = 38\n",
    "\n",
    "\n",
    "\n",
    "SAVE_IMAGES_TO_FILE = False  # flag if we want to capture the image to disk\n",
    "\n",
    "SYMBOL = None\n",
    "\n",
    "RESOLUTION = 280\n",
    "\n",
    "\n",
    "# from fastbook import *\n",
    "from fastbook import *\n",
    "from fastai.vision.all import *\n",
    "\n",
    "\n",
    "from fastai.vision.widgets import *\n",
    "import fastai.vision\n",
    "import fastai\n",
    "from fastai.learner import *\n",
    "import fastprogress\n",
    "\n",
    "import numpy as np\n",
    "import cv2 as cv\n",
    "\n",
    "import os\n",
    "\n",
    "\n"
   ]
  },
  {
   "cell_type": "markdown",
   "metadata": {},
   "source": [
    "<br>\n",
    "<br>\n",
    "\n",
    "## Load the model"
   ]
  },
  {
   "cell_type": "code",
   "execution_count": 2,
   "metadata": {
    "execution": {
     "iopub.execute_input": "2021-01-29T10:59:10.708150Z",
     "iopub.status.busy": "2021-01-29T10:59:10.707931Z",
     "iopub.status.idle": "2021-01-29T10:59:12.234933Z",
     "shell.execute_reply": "2021-01-29T10:59:12.234404Z",
     "shell.execute_reply.started": "2021-01-29T10:59:10.708127Z"
    }
   },
   "outputs": [
    {
     "name": "stdout",
     "output_type": "stream",
     "text": [
      "Model Loaded.\n"
     ]
    }
   ],
   "source": [
    "if not SAVE_IMAGES_TO_FILE:\n",
    "    learn_inf = load_learner(f'../models/{RUN_NAME}.pkl', cpu=False)\n",
    "    load_model(f'models/{RUN_NAME}_{epoch_num}.pth', learn_inf, with_opt=False, opt=Adam)\n",
    "    print('Model Loaded.')"
   ]
  },
  {
   "cell_type": "raw",
   "metadata": {
    "execution": {
     "iopub.execute_input": "2021-01-27T02:29:04.006634Z",
     "iopub.status.busy": "2021-01-27T02:29:04.006376Z",
     "iopub.status.idle": "2021-01-27T02:29:04.011539Z",
     "shell.execute_reply": "2021-01-27T02:29:04.011069Z",
     "shell.execute_reply.started": "2021-01-27T02:29:04.006609Z"
    }
   },
   "source": [
    "import random\n",
    "\n",
    "# Needed to pass into the DataBlock    \n",
    "def get_fnames(path): \n",
    "    retlist = get_image_files('../data/frank/Training_Set')\n",
    "    return random.sample(retlist, 500) \n",
    "        \n",
    "\n",
    "    \n",
    "    \n",
    "    \n",
    "signs = DataBlock(\n",
    "    blocks=(ImageBlock, CategoryBlock), \n",
    "    get_items=get_fnames, \n",
    "    splitter=RandomSplitter(valid_pct=0.3, seed=42),\n",
    "    get_y=parent_label,\n",
    "    item_tfms=CropPad(RESOLUTION, pad_mode='zeros'))\n",
    "#    ,    batch_tfms=aug_transforms(do_flip=True, size=RESOLUTION, batch=False, max_zoom=1.0, mult=1, pad_mode='zeros'))\n"
   ]
  },
  {
   "cell_type": "raw",
   "metadata": {
    "execution": {
     "iopub.execute_input": "2021-01-27T02:29:04.605566Z",
     "iopub.status.busy": "2021-01-27T02:29:04.605307Z",
     "iopub.status.idle": "2021-01-27T02:29:04.831357Z",
     "shell.execute_reply": "2021-01-27T02:29:04.831032Z",
     "shell.execute_reply.started": "2021-01-27T02:29:04.605542Z"
    }
   },
   "source": [
    "funky_path = f'../data/frank/Training_Set'\n",
    "\n",
    "dls = signs.dataloaders(funky_path, bs=32)"
   ]
  },
  {
   "cell_type": "raw",
   "metadata": {
    "execution": {
     "iopub.execute_input": "2021-01-27T02:29:05.092808Z",
     "iopub.status.busy": "2021-01-27T02:29:05.092558Z",
     "iopub.status.idle": "2021-01-27T02:29:05.273889Z",
     "shell.execute_reply": "2021-01-27T02:29:05.273524Z",
     "shell.execute_reply.started": "2021-01-27T02:29:05.092785Z"
    }
   },
   "source": [
    "test_dl = dls.test_dl(get_fnames(''), with_labels=True)"
   ]
  },
  {
   "cell_type": "raw",
   "metadata": {
    "execution": {
     "iopub.execute_input": "2021-01-27T02:29:05.760338Z",
     "iopub.status.busy": "2021-01-27T02:29:05.760089Z",
     "iopub.status.idle": "2021-01-27T02:29:05.884428Z",
     "shell.execute_reply": "2021-01-27T02:29:05.883974Z",
     "shell.execute_reply.started": "2021-01-27T02:29:05.760313Z"
    }
   },
   "source": [
    "# get_fnames('')"
   ]
  },
  {
   "cell_type": "raw",
   "metadata": {
    "execution": {
     "iopub.execute_input": "2021-01-27T02:29:08.609928Z",
     "iopub.status.busy": "2021-01-27T02:29:08.609660Z",
     "iopub.status.idle": "2021-01-27T02:29:12.705623Z",
     "shell.execute_reply": "2021-01-27T02:29:12.705308Z",
     "shell.execute_reply.started": "2021-01-27T02:29:08.609895Z"
    }
   },
   "source": [
    "learn_inf.get_preds(dl=test_dl)"
   ]
  },
  {
   "cell_type": "markdown",
   "metadata": {},
   "source": [
    "<br>\n",
    "<br>\n",
    "\n",
    "## Function definitions"
   ]
  },
  {
   "cell_type": "code",
   "execution_count": 3,
   "metadata": {
    "execution": {
     "iopub.execute_input": "2021-01-29T10:59:12.236644Z",
     "iopub.status.busy": "2021-01-29T10:59:12.236532Z",
     "iopub.status.idle": "2021-01-29T10:59:12.240854Z",
     "shell.execute_reply": "2021-01-29T10:59:12.240552Z",
     "shell.execute_reply.started": "2021-01-29T10:59:12.236631Z"
    }
   },
   "outputs": [],
   "source": [
    "def setup_camera() -> cv.VideoCapture:\n",
    "    '''\n",
    "    Set up the camera source\n",
    "    '''\n",
    "#     cap = cv.VideoCapture(0)\n",
    "    # cap = cv.VideoCapture('http://127.0.0.1:4747/video')\n",
    "#     cap = cv.VideoCapture('http://10.0.0.67:4747/video')  # S7\n",
    "    cap = cv.VideoCapture('http://10.0.0.74:4747/video')  # N10\n",
    "\n",
    "    # cap = cv.VideoCapture('Droidcam')\n",
    "#     cap = cv.VideoCapture('http://10.0.0.144:4747/video')  # N8\n",
    "    \n",
    "    print(f'Autofocus status: {cap.set(cv.CAP_PROP_AUTOFOCUS, 1)}')\n",
    "    print(f'Manual focus to shortest distance: {cap.set(cv.CAP_PROP_FOCUS, 0)}')\n",
    "\n",
    "    # Check if camera opened successfully\n",
    "    if not cap.isOpened():\n",
    "        print(\"Error opening video stream or file!\")\n",
    "    \n",
    "    return cap\n",
    "\n",
    "\n",
    "\n",
    "\n",
    "def close_camera():\n",
    "    '''\n",
    "    Close all capture devices and destroy open capture windows\n",
    "    '''\n",
    "    cap.release()\n",
    "    cv.destroyAllWindows()\n",
    "    \n",
    "    \n",
    "\n",
    "\n",
    "def print_stats():\n",
    "    '''\n",
    "    Print some basic stats to stdout\n",
    "    '''\n",
    "    \n",
    "    print(f'Frame shape = {frame.shape}')\n",
    "    print(f'Total number of Frames = {nframe}')\n",
    "    print(f'Number of frames processed = {n_proc_frames // PROC_NTH_FRAME}')\n",
    "    \n",
    "    \n",
    "    \n",
    "# @TODO: Factor out the directory creation logic - slow/redundant    \n",
    "def save_images(frame, pr_frame):\n",
    "    '''\n",
    "    write small and large images to jpeg\n",
    "    '''\n",
    "    symbol_dir = SYMBOL\n",
    "    \n",
    "    #seperate the directory path\n",
    "    datadir_small = f'../data/{maindir}-S/{symbol_dir}'\n",
    "    datadir_large = f'../data/{maindir}-L/{symbol_dir}'\n",
    "\n",
    "    # build the entire directory structure if it doesn't exist\n",
    "#     if not os.path.isdir(datadir_small):\n",
    "#         os.makedirs(datadir_small)\n",
    "        \n",
    "    if not os.path.isdir(datadir_large):\n",
    "        os.makedirs(datadir_large)\n",
    "    \n",
    "    # create a directory+filename template\n",
    "#     ftemplate_small = f'{datadir_small}/{file_prefix}-{n_save_frames}.jpg'\n",
    "    ftemplate_large = f'{datadir_large}/{file_prefix}-{n_save_frames}.jpg'\n",
    "    \n",
    "    # write the image to a file\n",
    "#     cv.imwrite(ftemplate_small, pr_frame)\n",
    "#     cv.imwrite(ftemplate_large, frame)\n",
    "    cv.imwrite(ftemplate_large, pr_frame)\n",
    "    \n",
    "    frame = cv.putText(frame, f'Saved Frame {SYMBOL} #{n_save_frames}', \n",
    "                   org=(20,40), fontFace=cv.FONT_HERSHEY_PLAIN, \n",
    "                   fontScale=2, color=(0,255,255), thickness=2,\n",
    "                   lineType=cv.LINE_AA) \n",
    "    \n",
    "    # Display the frame with the writing on it\n",
    "    cv.imshow('What the Camera Sees:',frame)\n",
    "    \n",
    "    \n",
    "    \n",
    "\n",
    "    \n"
   ]
  },
  {
   "cell_type": "markdown",
   "metadata": {},
   "source": [
    "<br>\n",
    "<br>\n",
    "\n",
    "## Open the video camera, loop for every Frame, massage the image and make a prediction.  "
   ]
  },
  {
   "cell_type": "markdown",
   "metadata": {},
   "source": [
    "#### This is the main code cel.  It has 2 purposes. When you hit the spacebar, it will either:\n",
    "1. Make an ASL alphabet translation or \n",
    "2. If SAVE_IMAGES_TO_FILE is True, it will save an image to the data dir "
   ]
  },
  {
   "cell_type": "code",
   "execution_count": 4,
   "metadata": {
    "execution": {
     "iopub.execute_input": "2021-01-29T10:59:12.241366Z",
     "iopub.status.busy": "2021-01-29T10:59:12.241256Z",
     "iopub.status.idle": "2021-01-29T10:59:13.213451Z",
     "shell.execute_reply": "2021-01-29T10:59:13.213123Z",
     "shell.execute_reply.started": "2021-01-29T10:59:12.241355Z"
    }
   },
   "outputs": [
    {
     "name": "stdout",
     "output_type": "stream",
     "text": [
      "Autofocus status: False\n",
      "Manual focus to shortest distance: False\n"
     ]
    }
   ],
   "source": [
    "from fastai.vision  import *\n",
    "import torch\n",
    "\n",
    "PROC_NTH_FRAME = 4  # Skip every N-1 frames - increase this if your computer lags\n",
    "\n",
    "maindir = 'frank-proc1'  # these are image saving parameters dir/file\n",
    "file_prefix = 'fproc1'\n",
    "\n",
    "n_proc_frames, nframe = 0,0  # number of frames\n",
    "n_save_frames = 0  # number of captured frames for saving to file\n",
    "\n",
    "# declare here to widen scope\n",
    "pred, probs, pred_idx = [0], [0], 0\n",
    "frame, pr_frame = None, None\n",
    "\n",
    "if SAVE_IMAGES_TO_FILE:\n",
    "    SYMBOL = input('Enter Symbol of interest: ')[0]\n",
    "    \n",
    "cap = setup_camera()\n",
    "# cap.set(cv.CAP_PROP_FPS, 10)  # Doesn't work?\n",
    "\n",
    "\n",
    "BACKGROUND_MASK = True  # Choose this if you want to try to erase the background\n",
    "CANNY_EDGE_HIGHLIGHTER = True  # Choose this to add edge highlighting\n",
    "\n",
    "if BACKGROUND_MASK:\n",
    "    backSub = cv.createBackgroundSubtractorKNN(history=500, dist2Threshold=300)  # Background Subtractor\n",
    "    \n",
    "    ## Create kernels to apply filters\n",
    "    kernel1 = cv.getStructuringElement(cv.MORPH_ELLIPSE,(1,1))\n",
    "    kernel2 = cv.getStructuringElement(cv.MORPH_ELLIPSE,(2,2))\n",
    "    kernel3 = cv.getStructuringElement(cv.MORPH_ELLIPSE,(3,3))\n",
    "    kernel5 = cv.getStructuringElement(cv.MORPH_ELLIPSE,(5,5))\n",
    "    # kernel3 = np.ones((3,3),np.uint8)  # kernel of ones for masking\n",
    "    # kernel5 = np.ones((5,5), np.uint8)\n",
    "    \n",
    "    "
   ]
  },
  {
   "cell_type": "code",
   "execution_count": 5,
   "metadata": {
    "execution": {
     "iopub.execute_input": "2021-01-29T10:59:13.214016Z",
     "iopub.status.busy": "2021-01-29T10:59:13.213903Z",
     "iopub.status.idle": "2021-01-29T10:59:19.722614Z",
     "shell.execute_reply": "2021-01-29T10:59:19.722237Z",
     "shell.execute_reply.started": "2021-01-29T10:59:13.214005Z"
    }
   },
   "outputs": [
    {
     "name": "stdout",
     "output_type": "stream",
     "text": [
      "Frame shape = (480, 640, 3)\n",
      "Total number of Frames = 784\n",
      "Number of frames processed = 48\n"
     ]
    }
   ],
   "source": [
    "    \n",
    "# \"Game\" Loop ... for every frame\n",
    "while(cap.isOpened()):\n",
    "    nframe += 4\n",
    "    ret, frame = cap.read()  # Capture frame\n",
    "    wait_ret = cv.waitKey(1)  # key char value if any\n",
    "\n",
    "    # Break out of the loop if the user presses 'Q'\n",
    "    if wait_ret & 0xFF == ord('q'):\n",
    "        print_stats()\n",
    "        break\n",
    "    \n",
    "    # only process the rest if the capture was successful\n",
    "    if not ret:\n",
    "        print(\"Can't read frame from capture source!\")\n",
    "        break  # break out of loop to let the camera close\n",
    "\n",
    "\n",
    "    # mirror the image horizontally\n",
    "    frame = cv.flip(frame, 1)\n",
    "\n",
    "\n",
    "\n",
    "\n",
    "    # process only if the space key is hit and\n",
    "    # only process every PROC_NTH_FRAME frames \n",
    "    if (nframe % PROC_NTH_FRAME == 0):  # and wait_ret & 0xFF == ord(' ')  \n",
    "        n_proc_frames +=1  # num processed frames\n",
    "\n",
    "\n",
    "        # this version for resnet34 w/ 300px image\n",
    "        pr_frame = cv.resize(frame[:, 80:-80], (RESOLUTION, RESOLUTION))\n",
    "#         pr_frame = np.copy(frame[:,80:-80])\n",
    "    \n",
    "        # remove color (different skin tones, light,etc)\n",
    "        pr_frame_G = cv.cvtColor(pr_frame, cv.COLOR_BGR2GRAY)  \n",
    "#         pr_frame_G = cv.cvtColor(pr_frame_G, cv.COLOR_GRAY2BGR)\n",
    "\n",
    "        if BACKGROUND_MASK:\n",
    "            fg_mask = backSub.apply(pr_frame, learningRate=0.005)  # initial background subtraction\n",
    "            fg_mask = cv.morphologyEx(fg_mask, cv.MORPH_OPEN, kernel1, iterations=20)  # remove background blocks\n",
    "            fg_mask = cv.morphologyEx(fg_mask, cv.MORPH_CLOSE, kernel5, iterations=1)  # remove foreground blocks\n",
    "            fg_mask = cv.medianBlur(fg_mask,5)  # remove salt and pepper\n",
    "            fg_mask = cv.dilate(fg_mask, kernel5, iterations = 1)  # dilate the mask\n",
    "\n",
    "            fg_frame = cv.bitwise_and(pr_frame, pr_frame, mask=fg_mask)  # erase the background\n",
    "            \n",
    "            fg_frame_G = cv.cvtColor(fg_frame, cv.COLOR_BGR2GRAY)  # convert to gray\n",
    "            fg_frame_G = cv.convertScaleAbs(fg_frame_G, alpha=1.2, beta=0)  # increase contrast\n",
    "\n",
    "            \n",
    "            if CANNY_EDGE_HIGHLIGHTER:  # add canny edge at the end to maintain contrast\n",
    "                fg_frame_canny = cv.Canny(fg_frame,50,200)  # Canny edge detection\n",
    "#                 fg_frame_canny = cv.cvtColor(fg_frame_canny, cv.COLOR_GRAY2BGR)  # convert back go BGR\n",
    "                fg_frame_canny = cv.dilate(fg_frame_canny, kernel1)  # increase the line width\n",
    "    #             fg_frame_canny = cv.morphologyEx(fg_frame_canny, cv.MORPH_GRADIENT, kernel5)\n",
    "#                 fg_frame_G = cv.add(fg_frame,fg_frame_canny)  # add the edges back to the masked image.\n",
    "\n",
    "            ## We now have 3 channels - grey, masked-grey and canny ... we combine them \n",
    "            pr_frame[:,:,0] = pr_frame_G  # first channel is grey\n",
    "            pr_frame[:,:,1] = fg_frame_G  # second channel is with masked background\n",
    "            pr_frame[:,:,2] = fg_frame_canny  # third channel is canny\n",
    "\n",
    "#             pr_frame = np.array([[pr_frame_G, fg_frame_G, fg_frame_canny]).reshape((480,480,3))\n",
    "#             np.copyto(pr_frame[:,:,0], pr_frame_G)\n",
    "#             np.copyto(pr_frame[:,:,1], fg_frame_G)\n",
    "#             np.copyto(pr_frame[:,:,2], fg_frame_canny)\n",
    "#             pr_frame = fg_frame\n",
    "        \n",
    "        # Display the frame that we pass through the predictor\n",
    "        cv.imshow('What the Predictor Sees:', pr_frame)\n",
    "\n",
    "        if SAVE_IMAGES_TO_FILE :\n",
    "            if wait_ret & 0xFF == ord(' '):  # only save when pressing the spacebar\n",
    "                n_save_frames = n_save_frames + 1\n",
    "                save_images(frame, pr_frame)\n",
    "            continue  # no need to predict\n",
    "\n",
    "        # create the prediction\n",
    "        with learn_inf.no_bar():\n",
    "#             img = PILImage.create(cv.cvtColor(pr_frame, cv.COLOR_BGR2RGB))\n",
    "            img = PILImage.create(cv.cvtColor(pr_frame, cv.COLOR_BGR2RGB))\n",
    "            pred,pred_idx,probs = learn_inf.predict(img)\n",
    "            \n",
    "           \n",
    "           \n",
    "        # write the prediction as text on the frame\n",
    "        if probs[pred_idx.long()] > PRED_THRESHOLD:\n",
    "            frame = cv.putText(frame, f'Predict: {pred}, Conf: {probs[pred_idx]:.02f}', \n",
    "                               org=(20,40), fontFace=cv.FONT_HERSHEY_PLAIN, \n",
    "                               fontScale=2, color=(0,255,255), thickness=2,\n",
    "                               lineType=cv.LINE_AA) \n",
    "\n",
    "        # Display the original frame\n",
    "        cv.imshow('What the Camera Sees:',frame)\n",
    "\n",
    "# Release the capture object\n",
    "close_camera()\n",
    "# dec_inp.show()"
   ]
  },
  {
   "cell_type": "raw",
   "metadata": {
    "execution": {
     "iopub.execute_input": "2021-01-29T10:53:02.284274Z",
     "iopub.status.busy": "2021-01-29T10:53:02.284128Z",
     "iopub.status.idle": "2021-01-29T10:53:02.292151Z",
     "shell.execute_reply": "2021-01-29T10:53:02.291686Z",
     "shell.execute_reply.started": "2021-01-29T10:53:02.284259Z"
    }
   },
   "source": [
    "    \n",
    "# \"Game\" Loop ... for every frame\n",
    "while(cap.isOpened()):\n",
    "    nframe += 1\n",
    "    ret, frame = cap.read()  # Capture frame\n",
    "    wait_ret = cv.waitKey(1)  # key char value if any\n",
    "\n",
    "    # Break out of the loop if the user presses 'Q'\n",
    "    if wait_ret & 0xFF == ord('q'):\n",
    "        print_stats()\n",
    "        break\n",
    "    \n",
    "    # only process the rest if the capture was successful\n",
    "    if not ret:\n",
    "        print(\"Can't read frame from capture source!\")\n",
    "        break  # break out of loop to let the camera close\n",
    "\n",
    "\n",
    "    # mirror the image horizontally\n",
    "    frame = cv.flip(frame, 1)\n",
    "\n",
    "\n",
    "\n",
    "\n",
    "    # process only if the space key is hit and\n",
    "    # only process every PROC_NTH_FRAME frames \n",
    "    if (nframe % PROC_NTH_FRAME == 0):  # and wait_ret & 0xFF == ord(' ')  \n",
    "        n_proc_frames +=1  # num processed frames\n",
    "\n",
    "\n",
    "        # this version for resnet34 w/ 300px image\n",
    "#         pr_frame = cv.resize(frame[:, 80:-80], (RESOLUTION, RESOLUTION))\n",
    "        pr_frame = frame[:,80:-80]\n",
    "    \n",
    "        # remove color (different skin tones, light,etc)\n",
    "        pr_frame_G = cv.cvtColor(pr_frame, cv.COLOR_BGR2GRAY)  \n",
    "#         pr_frame_G = cv.cvtColor(pr_frame_G, cv.COLOR_GRAY2BGR)\n",
    "\n",
    "        if BACKGROUND_MASK:\n",
    "            fg_mask = backSub.apply(pr_frame, learningRate=0.005)  # initial background subtraction\n",
    "            fg_mask = cv.morphologyEx(fg_mask, cv.MORPH_OPEN, kernel1, iterations=20)  # remove background blocks\n",
    "            fg_mask = cv.morphologyEx(fg_mask, cv.MORPH_CLOSE, kernel5, iterations=1)  # remove foreground blocks\n",
    "            fg_mask = cv.medianBlur(fg_mask,5)  # remove salt and pepper\n",
    "            fg_mask = cv.dilate(fg_mask, kernel5, iterations = 1)  # dilate the mask\n",
    "\n",
    "            fg_frame = cv.bitwise_and(pr_frame, pr_frame, mask=fg_mask)  # erase the background\n",
    "            \n",
    "            fg_frame_G = cv.cvtColor(fg_frame, cv.COLOR_BGR2GRAY)  # convert to gray\n",
    "\n",
    "            \n",
    "            if CANNY_EDGE_HIGHLIGHTER:  # add canny edge at the end to maintain contrast\n",
    "                fg_frame_canny = cv.Canny(fg_frame,50,200)  # Canny edge detection\n",
    "                fg_frame_canny = cv.cvtColor(fg_frame_canny, cv.COLOR_GRAY2BGR)  # convert back go BGR\n",
    "                fg_frame_canny = cv.dilate(fg_frame_canny, kernel1)  # increase the line width\n",
    "    #             fg_frame_canny = cv.morphologyEx(fg_frame_canny, cv.MORPH_GRADIENT, kernel5)\n",
    "                fg_frame = cv.add(fg_frame,fg_frame_canny)  # add the edges back to the masked image.\n",
    "\n",
    "\n",
    "            pr_frame = fg_frame\n",
    "        \n",
    "        # Display the frame that we pass through the predictor\n",
    "        cv.imshow('What the Predictor Sees:', pr_frame)\n",
    "\n",
    "        if SAVE_IMAGES_TO_FILE :\n",
    "            if wait_ret & 0xFF == ord(' '):  # only save when pressing the spacebar\n",
    "                n_save_frames = n_save_frames + 1\n",
    "                save_images(frame, pr_frame)\n",
    "            continue  # no need to predict\n",
    "\n",
    "        # create the prediction\n",
    "        with learn_inf.no_bar():\n",
    "#             img = PILImage.create(cv.cvtColor(pr_frame, cv.COLOR_BGR2RGB))\n",
    "            img = PILImage.create(cv.cvtColor(pr_frame, cv.COLOR_BGR2RGB))\n",
    "            pred,pred_idx,probs = learn_inf.predict(img)\n",
    "            \n",
    "           \n",
    "           \n",
    "        # write the prediction as text on the frame\n",
    "        if probs[pred_idx.long()] > PRED_THRESHOLD:\n",
    "            frame = cv.putText(frame, f'Predict: {pred}, Conf: {probs[pred_idx]:.02f}', \n",
    "                               org=(20,40), fontFace=cv.FONT_HERSHEY_PLAIN, \n",
    "                               fontScale=2, color=(0,255,255), thickness=2,\n",
    "                               lineType=cv.LINE_AA) \n",
    "\n",
    "        # Display the original frame\n",
    "        cv.imshow('What the Camera Sees:',frame)\n",
    "\n",
    "# Release the capture object\n",
    "close_camera()\n",
    "# dec_inp.show()"
   ]
  },
  {
   "cell_type": "raw",
   "metadata": {
    "execution": {
     "iopub.execute_input": "2021-01-23T06:15:21.779062Z",
     "iopub.status.busy": "2021-01-23T06:15:21.778831Z",
     "iopub.status.idle": "2021-01-23T06:15:21.866777Z",
     "shell.execute_reply": "2021-01-23T06:15:21.866388Z",
     "shell.execute_reply.started": "2021-01-23T06:15:21.779040Z"
    }
   },
   "source": [
    "import matplotlib.pyplot as plt\n",
    "f = cv.cvtColor(pr_frame, cv.COLOR_BGR2RGB)\n",
    "timg = PILImage.create(f)\n",
    "type(timg)\n",
    "# learn_inf.predict(timg)\n",
    "timg.show()\n",
    "\n",
    "str(timg)"
   ]
  },
  {
   "cell_type": "code",
   "execution_count": 6,
   "metadata": {
    "execution": {
     "iopub.execute_input": "2021-01-29T10:59:19.723519Z",
     "iopub.status.busy": "2021-01-29T10:59:19.723217Z",
     "iopub.status.idle": "2021-01-29T10:59:19.726347Z",
     "shell.execute_reply": "2021-01-29T10:59:19.725972Z",
     "shell.execute_reply.started": "2021-01-29T10:59:19.723500Z"
    }
   },
   "outputs": [],
   "source": [
    "close_camera()                \n"
   ]
  },
  {
   "cell_type": "markdown",
   "metadata": {
    "execution": {
     "iopub.execute_input": "2020-09-19T09:52:40.639847Z",
     "iopub.status.busy": "2020-09-19T09:52:40.639632Z",
     "iopub.status.idle": "2020-09-19T09:52:40.642608Z",
     "shell.execute_reply": "2020-09-19T09:52:40.642059Z",
     "shell.execute_reply.started": "2020-09-19T09:52:40.639824Z"
    }
   },
   "source": [
    "<br>\n",
    "<br>\n",
    "<br>\n",
    "<br>\n",
    "<br>\n",
    "\n",
    "\n",
    "# The rest of this file is for reference only.  \n",
    "\n",
    "<br>\n",
    "<br>\n",
    "<br>\n",
    "\n"
   ]
  },
  {
   "cell_type": "markdown",
   "metadata": {},
   "source": [
    "<br>\n",
    "<br>\n",
    "<br>\n",
    "<br>\n",
    "<br>\n",
    "<br>\n",
    "<br>\n",
    "<br>\n",
    "\n",
    "\n",
    "# Snippets\n",
    "\n",
    "```python\n",
    "# rotate the image\n",
    "frame = cv.rotate(frame, cv.ROTATE_90_COUNTERCLOCKWISE)\n",
    "```"
   ]
  },
  {
   "cell_type": "markdown",
   "metadata": {},
   "source": []
  },
  {
   "cell_type": "code",
   "execution_count": 7,
   "metadata": {
    "execution": {
     "iopub.execute_input": "2021-01-29T10:59:19.728348Z",
     "iopub.status.busy": "2021-01-29T10:59:19.728170Z",
     "iopub.status.idle": "2021-01-29T10:59:19.730160Z",
     "shell.execute_reply": "2021-01-29T10:59:19.729807Z",
     "shell.execute_reply.started": "2021-01-29T10:59:19.728334Z"
    }
   },
   "outputs": [],
   "source": [
    "# learn.export(f'../models/{RUN_NAME}.pkl')\n",
    "# path = Path('../models')\n",
    "# path.ls(file_exts='.pkl')"
   ]
  },
  {
   "cell_type": "code",
   "execution_count": null,
   "metadata": {},
   "outputs": [],
   "source": []
  },
  {
   "cell_type": "raw",
   "metadata": {},
   "source": []
  },
  {
   "cell_type": "raw",
   "metadata": {},
   "source": []
  },
  {
   "cell_type": "code",
   "execution_count": null,
   "metadata": {},
   "outputs": [],
   "source": []
  },
  {
   "cell_type": "code",
   "execution_count": null,
   "metadata": {},
   "outputs": [],
   "source": []
  }
 ],
 "metadata": {
  "kernelspec": {
   "display_name": "Python 3",
   "language": "python",
   "name": "python3"
  },
  "language_info": {
   "codemirror_mode": {
    "name": "ipython",
    "version": 3
   },
   "file_extension": ".py",
   "mimetype": "text/x-python",
   "name": "python",
   "nbconvert_exporter": "python",
   "pygments_lexer": "ipython3",
   "version": "3.8.6"
  },
  "widgets": {
   "application/vnd.jupyter.widget-state+json": {
    "state": {},
    "version_major": 2,
    "version_minor": 0
   }
  }
 },
 "nbformat": 4,
 "nbformat_minor": 4
}
